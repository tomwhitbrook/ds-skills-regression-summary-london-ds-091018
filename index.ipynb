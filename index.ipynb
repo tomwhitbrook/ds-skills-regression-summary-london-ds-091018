{
 "cells": [
  {
   "cell_type": "markdown",
   "metadata": {},
   "source": [
    "# Regression Summary\n",
    "\n",
    "Recall to date our general outline for creating regression models:\n",
    "\n",
    "* Define X and y\n",
    "    * y should be a continuous numeric variable\n",
    "    * X should be a number of numeric features\n",
    "        *X features may need substantial preproccesing including:\n",
    "            * Transforming datetime values\n",
    "            * Normalizing features ranges/distributions\n",
    "            * Creating dummy variables\n",
    "            * Ensuring there are no categorical variables coded (misleadingly) as numbers\n",
    "* Train / Test Split\n",
    "* Fit algorithm on training data\n",
    "    * Cross Validation\n",
    "    * Feature Engineering\n",
    "        * Synthetic Polynomial Features / Polynomial Regression\n",
    "* Evaluate Model Performance on Test Set\n",
    "    * Repeat process with seperate train/test split; do results hold?\n",
    "* Continue feature engineering, tuning, etc."
   ]
  },
  {
   "cell_type": "markdown",
   "metadata": {},
   "source": [
    "Use this time to review all of your notes to date regarding these varied techniques.  \n",
    "You should also continue to practice outlining work for your midterm.   \n",
    "The general outline of the next few days looks like this:    \n",
    "  \n",
    "**Class 8:** Perform Exploratory Data Analysis and Fit / Tune a Regression Model (Final Practice for Midterm)  \n",
    "**Class 9:** In class time devoted to working on Midterm project  \n",
    "**Class 10:** Discussion / Presentations of Midterm Projects  \n",
    "\n"
   ]
  },
  {
   "cell_type": "markdown",
   "metadata": {},
   "source": [
    "## Midterm Project Rubric\n",
    "\n",
    "<img src='Midterm_Timeline_Rubric.jpg' width=550>"
   ]
  },
  {
   "cell_type": "code",
   "execution_count": null,
   "metadata": {
    "collapsed": true
   },
   "outputs": [],
   "source": []
  }
 ],
 "metadata": {
  "kernelspec": {
   "display_name": "Python 3",
   "language": "python",
   "name": "python3"
  },
  "language_info": {
   "codemirror_mode": {
    "name": "ipython",
    "version": 3
   },
   "file_extension": ".py",
   "mimetype": "text/x-python",
   "name": "python",
   "nbconvert_exporter": "python",
   "pygments_lexer": "ipython3",
   "version": "3.6.4"
  }
 },
 "nbformat": 4,
 "nbformat_minor": 2
}
